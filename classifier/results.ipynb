{
 "cells": [
  {
   "cell_type": "code",
   "execution_count": 64,
   "id": "d862bff3-27d6-4679-9a0b-ccdc949d554c",
   "metadata": {},
   "outputs": [],
   "source": [
    "import random\n",
    "import os\n",
    "import copy\n",
    "os.environ[\"OMP_NUM_THREADS\"] = \"1\"\n",
    "import matplotlib\n",
    "import matplotlib.pyplot as plt\n",
    "import seaborn as sns\n",
    "import pandas as pd\n",
    "import torch\n",
    "import cv2\n",
    "import warnings\n",
    "import timeit\n",
    "import pytorch_lightning as pl\n",
    "from pytorch_lightning.callbacks import ModelCheckpoint\n",
    "from torch import optim\n",
    "from scipy.special import expit\n",
    "from skimage import io, transform, measure\n",
    "from sklearn import metrics\n",
    "import optuna\n",
    "from config import *\n",
    "from util import *\n",
    "from models import *\n",
    "sns.set()\n",
    "sns.set_style('white')\n",
    "warnings.filterwarnings(\"ignore\")\n",
    "pd.set_option('display.max_columns', 500)\n",
    "pd.set_option('display.max_rows', 500)\n",
    "rc = {\"figure.figsize\" : (9, 7),\n",
    "      \"axes.spines.left\" : True,\n",
    "      \"axes.spines.right\" : True,\n",
    "      \"axes.spines.bottom\" : True,\n",
    "      \"axes.spines.top\" : True,\n",
    "      \"xtick.bottom\" : True,\n",
    "      \"xtick.labelbottom\" : True,\n",
    "      \"ytick.labelleft\" : True,\n",
    "      \"ytick.left\" : True,\n",
    "      \"axes.grid\" : True}\n",
    "plt.rcParams.update(rc)\n",
    "\n",
    "def confidence_interval(data, size=10000, func=np.mean):\n",
    "    \"\"\"creates a bootstrap sample, computes replicates and returns replicates array\"\"\"\n",
    "    # Create an empty array to store replicates\n",
    "    bs_replicates = np.empty(size)\n",
    "    \n",
    "    np.random.seed(42)\n",
    "    # Create bootstrap replicates as much as size\n",
    "    for i in range(size):\n",
    "        # Create a bootstrap sample\n",
    "        bs_sample = np.random.choice(data,size=len(data))\n",
    "        # Get bootstrap replicate and append to bs_replicates\n",
    "        bs_replicates[i] = func(bs_sample)\n",
    "    \n",
    "    return np.percentile(bs_replicates, [2.5, 97.5])\n",
    "\n",
    "def accuracy_confidence_interval(data, size=10000, func=np.mean):\n",
    "    bs_replicates = np.empty(size)\n",
    "    \n",
    "    np.random.seed(42)\n",
    "    for i in range(size):\n",
    "        bs_sample = data.sample(n=len(data), replace=True)\n",
    "        # Get bootstrap replicate and append to bs_replicates\n",
    "        bs_replicates[i] = metrics.balanced_accuracy_score(bs_sample['benign_malignant'], bs_sample['prediction']).round(5)\n",
    "    \n",
    "    return np.percentile(bs_replicates, [2.5, 97.5])\n",
    "\n",
    "def char_confidence_interval(data, char, size=10000, func=np.mean):\n",
    "    bs_replicates = np.empty(size)\n",
    "    \n",
    "    np.random.seed(42)\n",
    "    for i in range(size):\n",
    "        bs_sample = data.sample(n=len(data), replace=True)\n",
    "        # Get bootstrap replicate and append to bs_replicates\n",
    "        bs_replicates[i] = metrics.balanced_accuracy_score(bs_sample[char], bs_sample[char+'_pred']).round(5)\n",
    "    \n",
    "    return np.percentile(bs_replicates, [2.5, 97.5])"
   ]
  },
  {
   "cell_type": "code",
   "execution_count": 21,
   "id": "bc97ca7a-a112-438c-b099-bf0bbc6bd3fd",
   "metadata": {},
   "outputs": [
    {
     "name": "stdout",
     "output_type": "stream",
     "text": [
      "balanced acc:  0.86576\n",
      "sensitivity:  0.832\n",
      "specificity:  0.89952\n",
      "Test: [0.825028   0.90322025]\n",
      "\n",
      "balanced acc:  0.76886\n",
      "sensitivity:  0.73469\n",
      "specificity:  0.80303\n",
      "External: [0.71583  0.820781]\n"
     ]
    }
   ],
   "source": [
    "result_val = pd.read_csv(os.path.join(\"results\", \"combined_model\", \"result_val.csv\"))\n",
    "result_test = pd.read_csv(os.path.join(\"results\", \"combined_model\", \"result_test.csv\"))\n",
    "result_external = pd.read_csv(os.path.join(\"results\", \"combined_model\", \"result_external.csv\"))\n",
    "display_metrics(result_test)\n",
    "print('Test:', accuracy_confidence_interval(result_test))\n",
    "print()\n",
    "display_metrics(result_external)\n",
    "print('External:', accuracy_confidence_interval(result_external))"
   ]
  },
  {
   "cell_type": "code",
   "execution_count": null,
   "id": "faee6960-49f1-4e40-95e4-44d72cbd4b4c",
   "metadata": {},
   "outputs": [],
   "source": []
  },
  {
   "cell_type": "code",
   "execution_count": 40,
   "id": "af61927a-f0d8-4251-9248-d21aec208289",
   "metadata": {},
   "outputs": [],
   "source": [
    "char_acc = {}\n",
    "cols = ['TRBL', 'BDG', 'GP', 'WLSA', 'PRL', 'PV', 'SPC', 'APC', 'OPC', 'MVP']\n",
    "for col in cols:\n",
    "    acc = metrics.balanced_accuracy_score(result_test[col], result_test[col+'_pred'])\n",
    "    conf = char_confidence_interval(result_test, col)\n",
    "    char_acc[col] = [acc, conf]"
   ]
  },
  {
   "cell_type": "code",
   "execution_count": 72,
   "id": "4402d82f-2bb5-40ad-991e-be66faefd4fe",
   "metadata": {},
   "outputs": [
    {
     "data": {
      "image/png": "[encoded data removed]",
      "text/plain": [
       "<Figure size 720x432 with 1 Axes>"
      ]
     },
     "metadata": {},
     "output_type": "display_data"
    }
   ],
   "source": [
    "# Extracting keys, means, and confidence intervals\n",
    "keys = list(char_acc.keys())\n",
    "means = np.array([item[0] for item in char_acc.values()])*100\n",
    "lower_bounds = np.array([item[1][0] for item in char_acc.values()])*100\n",
    "upper_bounds = np.array([item[1][1] for item in char_acc.values()])*100\n",
    "\n",
    "# Error bars\n",
    "yerr = [means[i] - lower_bounds[i] for i in range(len(means))]\n",
    "\n",
    "# Creating the bar plot\n",
    "plt.figure(figsize=(10, 6))\n",
    "plt.bar(keys, means, yerr=[yerr, np.array(upper_bounds) - np.array(means)], capsize=5)\n",
    "plt.ylabel('Balanced Accuracy (%)')\n",
    "plt.title('')\n",
    "plt.xticks(rotation=45)\n",
    "plt.ylim(20, 100)\n",
    "plt.tight_layout()\n",
    "plt.savefig('suppl.png', dpi=300)"
   ]
  },
  {
   "cell_type": "code",
   "execution_count": null,
   "id": "ad775ef8-9b1d-42f3-a3b0-391987804e00",
   "metadata": {},
   "outputs": [],
   "source": []
  },
  {
   "cell_type": "code",
   "execution_count": null,
   "id": "0224a3b7-de36-4ac6-9093-6f37b6f504c4",
   "metadata": {},
   "outputs": [],
   "source": []
  },
  {
   "cell_type": "code",
   "execution_count": null,
   "id": "31e91d2a-cd12-4ab5-9ace-cbd82f97ab08",
   "metadata": {},
   "outputs": [],
   "source": []
  },
  {
   "cell_type": "code",
   "execution_count": null,
   "id": "1d3696af-90a7-44f4-a0c7-8193dd05eb10",
   "metadata": {},
   "outputs": [],
   "source": []
  },
  {
   "cell_type": "code",
   "execution_count": null,
   "id": "d574d1fa-1b1e-41aa-9356-416664742c0d",
   "metadata": {},
   "outputs": [],
   "source": []
  },
  {
   "cell_type": "code",
   "execution_count": 19,
   "id": "614b068d-907c-4abc-aaa7-86bba34061ac",
   "metadata": {},
   "outputs": [
    {
     "name": "stdout",
     "output_type": "stream",
     "text": [
      "balanced acc:  0.83619\n",
      "sensitivity:  0.792\n",
      "specificity:  0.88038\n",
      "Test: [0.79340875 0.87706025]\n",
      "\n",
      "balanced acc:  0.77134\n",
      "sensitivity:  0.72449\n",
      "specificity:  0.81818\n",
      "External: [0.71812 0.82278]\n"
     ]
    }
   ],
   "source": [
    "result_val = pd.read_csv(os.path.join(\"../vanilla_classifier\", \"results\", \"result_val.csv\"))\n",
    "result_test = pd.read_csv(os.path.join(\"../vanilla_classifier\", \"results\", \"result_test.csv\"))\n",
    "result_external = pd.read_csv(os.path.join(\"../vanilla_classifier\", \"results\", \"result_external.csv\"))\n",
    "display_metrics(result_test)\n",
    "print('Test:', accuracy_confidence_interval(result_test))\n",
    "print()\n",
    "display_metrics(result_external)\n",
    "print('External:', accuracy_confidence_interval(result_external))"
   ]
  },
  {
   "cell_type": "code",
   "execution_count": null,
   "id": "4054c074-b0c5-48d7-8b66-1ca98c7e4ab9",
   "metadata": {},
   "outputs": [],
   "source": []
  },
  {
   "cell_type": "code",
   "execution_count": null,
   "id": "ee5e9951-1bdb-45a8-90a9-2a61d7889ba1",
   "metadata": {},
   "outputs": [],
   "source": []
  },
  {
   "cell_type": "code",
   "execution_count": null,
   "id": "841a6111-e71e-4736-8aa0-c92b3ae43ed2",
   "metadata": {},
   "outputs": [],
   "source": []
  }
 ],
 "metadata": {
  "kernelspec": {
   "display_name": "Python 3 (ipykernel)",
   "language": "python",
   "name": "python3"
  },
  "language_info": {
   "codemirror_mode": {
    "name": "ipython",
    "version": 3
   },
   "file_extension": ".py",
   "mimetype": "text/x-python",
   "name": "python",
   "nbconvert_exporter": "python",
   "pygments_lexer": "ipython3",
   "version": "3.9.9"
  }
 },
 "nbformat": 4,
 "nbformat_minor": 5
}
