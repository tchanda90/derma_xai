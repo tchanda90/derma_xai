{
 "cells": [
  {
   "cell_type": "code",
   "execution_count": 1,
   "id": "890114f3-701d-4639-a663-6f9ed31001b3",
   "metadata": {},
   "outputs": [],
   "source": [
    "import random\n",
    "import os\n",
    "os.environ[\"OMP_NUM_THREADS\"] = \"1\"\n",
    "import matplotlib\n",
    "import matplotlib.pyplot as plt\n",
    "import seaborn as sns\n",
    "import pandas as pd\n",
    "import torch\n",
    "import cv2\n",
    "import warnings\n",
    "import timeit\n",
    "import pytorch_lightning as pl\n",
    "from pytorch_lightning.callbacks import ModelCheckpoint\n",
    "from torch import optim\n",
    "from scipy.special import expit\n",
    "from skimage import io, transform, measure\n",
    "from sklearn import metrics\n",
    "import optuna\n",
    "from config import *\n",
    "from util import *\n",
    "from models import *\n",
    "sns.set()\n",
    "warnings.filterwarnings(\"ignore\")\n",
    "pd.set_option('display.max_columns', 500)\n",
    "pd.set_option('display.max_rows', 500)\n",
    "rc = {\"figure.figsize\" : (9, 7),\n",
    "      \"axes.spines.left\" : False,\n",
    "      \"axes.spines.right\" : False,\n",
    "      \"axes.spines.bottom\" : False,\n",
    "      \"axes.spines.top\" : False,\n",
    "      \"xtick.bottom\" : True,\n",
    "      \"xtick.labelbottom\" : False,\n",
    "      \"ytick.labelleft\" : False,\n",
    "      \"ytick.left\" : True,\n",
    "      \"axes.grid\" : False}\n",
    "plt.rcParams.update(rc)"
   ]
  },
  {
   "cell_type": "code",
   "execution_count": null,
   "id": "23d941c1-c048-4519-b6e5-1a2376be735f",
   "metadata": {},
   "outputs": [],
   "source": []
  },
  {
   "cell_type": "code",
   "execution_count": null,
   "id": "f873c0f9-a310-4558-b0c8-5457457220e1",
   "metadata": {},
   "outputs": [
    {
     "name": "stderr",
     "output_type": "stream",
     "text": [
      "\u001b[32m[I 2024-08-09 11:04:59,267]\u001b[0m A new study created in RDB with name: no-name-44f0743d-b3a8-415d-b3e3-c5bdf409a0ac\u001b[0m\n",
      "GPU available: True, used: True\n",
      "TPU available: False, using: 0 TPU cores\n",
      "IPU available: False, using: 0 IPUs\n",
      "LOCAL_RANK: 0 - CUDA_VISIBLE_DEVICES: [0,1,2,3]\n",
      "\n",
      "   | Name                 | Type              | Params\n",
      "------------------------------------------------------------\n",
      "0  | lossD                | BCEWithLogitsLoss | 0     \n",
      "1  | lossC                | BCEWithLogitsLoss | 0     \n",
      "2  | lossA                | DiceLoss          | 0     \n",
      "3  | base_model           | ResNet            | 23.5 M\n",
      "4  | diagnosis_head       | Sequential        | 2.0 K \n",
      "5  | characteristics_head | Sequential        | 20.5 K\n",
      "6  | sigmoid              | Sigmoid           | 0     \n",
      "7  | accuracy             | Accuracy          | 0     \n",
      "8  | auroc                | AUROC             | 0     \n",
      "9  | sensitivity          | Recall            | 0     \n",
      "10 | specificity          | Specificity       | 0     \n",
      "------------------------------------------------------------\n",
      "23.5 M    Trainable params\n",
      "0         Non-trainable params\n",
      "23.5 M    Total params\n",
      "94.122    Total estimated model params size (MB)\n"
     ]
    },
    {
     "data": {
      "application/vnd.jupyter.widget-view+json": {
       "model_id": "",
       "version_major": 2,
       "version_minor": 0
      },
      "text/plain": [
       "Validation sanity check: 0it [00:00, ?it/s]"
      ]
     },
     "metadata": {},
     "output_type": "display_data"
    },
    {
     "data": {
      "application/vnd.jupyter.widget-view+json": {
       "model_id": "d3ee5312b0154738abf25b780395546d",
       "version_major": 2,
       "version_minor": 0
      },
      "text/plain": [
       "Training: 0it [00:00, ?it/s]"
      ]
     },
     "metadata": {},
     "output_type": "display_data"
    },
    {
     "data": {
      "application/vnd.jupyter.widget-view+json": {
       "model_id": "",
       "version_major": 2,
       "version_minor": 0
      },
      "text/plain": [
       "Validating: 0it [00:00, ?it/s]"
      ]
     },
     "metadata": {},
     "output_type": "display_data"
    },
    {
     "data": {
      "application/vnd.jupyter.widget-view+json": {
       "model_id": "",
       "version_major": 2,
       "version_minor": 0
      },
      "text/plain": [
       "Validating: 0it [00:00, ?it/s]"
      ]
     },
     "metadata": {},
     "output_type": "display_data"
    },
    {
     "data": {
      "application/vnd.jupyter.widget-view+json": {
       "model_id": "",
       "version_major": 2,
       "version_minor": 0
      },
      "text/plain": [
       "Validating: 0it [00:00, ?it/s]"
      ]
     },
     "metadata": {},
     "output_type": "display_data"
    },
    {
     "data": {
      "application/vnd.jupyter.widget-view+json": {
       "model_id": "",
       "version_major": 2,
       "version_minor": 0
      },
      "text/plain": [
       "Validating: 0it [00:00, ?it/s]"
      ]
     },
     "metadata": {},
     "output_type": "display_data"
    },
    {
     "data": {
      "application/vnd.jupyter.widget-view+json": {
       "model_id": "",
       "version_major": 2,
       "version_minor": 0
      },
      "text/plain": [
       "Validating: 0it [00:00, ?it/s]"
      ]
     },
     "metadata": {},
     "output_type": "display_data"
    },
    {
     "data": {
      "application/vnd.jupyter.widget-view+json": {
       "model_id": "",
       "version_major": 2,
       "version_minor": 0
      },
      "text/plain": [
       "Validating: 0it [00:00, ?it/s]"
      ]
     },
     "metadata": {},
     "output_type": "display_data"
    },
    {
     "data": {
      "application/vnd.jupyter.widget-view+json": {
       "model_id": "",
       "version_major": 2,
       "version_minor": 0
      },
      "text/plain": [
       "Validating: 0it [00:00, ?it/s]"
      ]
     },
     "metadata": {},
     "output_type": "display_data"
    },
    {
     "data": {
      "application/vnd.jupyter.widget-view+json": {
       "model_id": "",
       "version_major": 2,
       "version_minor": 0
      },
      "text/plain": [
       "Validating: 0it [00:00, ?it/s]"
      ]
     },
     "metadata": {},
     "output_type": "display_data"
    },
    {
     "data": {
      "application/vnd.jupyter.widget-view+json": {
       "model_id": "",
       "version_major": 2,
       "version_minor": 0
      },
      "text/plain": [
       "Validating: 0it [00:00, ?it/s]"
      ]
     },
     "metadata": {},
     "output_type": "display_data"
    },
    {
     "data": {
      "application/vnd.jupyter.widget-view+json": {
       "model_id": "",
       "version_major": 2,
       "version_minor": 0
      },
      "text/plain": [
       "Validating: 0it [00:00, ?it/s]"
      ]
     },
     "metadata": {},
     "output_type": "display_data"
    },
    {
     "data": {
      "application/vnd.jupyter.widget-view+json": {
       "model_id": "",
       "version_major": 2,
       "version_minor": 0
      },
      "text/plain": [
       "Validating: 0it [00:00, ?it/s]"
      ]
     },
     "metadata": {},
     "output_type": "display_data"
    },
    {
     "data": {
      "application/vnd.jupyter.widget-view+json": {
       "model_id": "",
       "version_major": 2,
       "version_minor": 0
      },
      "text/plain": [
       "Validating: 0it [00:00, ?it/s]"
      ]
     },
     "metadata": {},
     "output_type": "display_data"
    },
    {
     "data": {
      "application/vnd.jupyter.widget-view+json": {
       "model_id": "",
       "version_major": 2,
       "version_minor": 0
      },
      "text/plain": [
       "Validating: 0it [00:00, ?it/s]"
      ]
     },
     "metadata": {},
     "output_type": "display_data"
    },
    {
     "data": {
      "application/vnd.jupyter.widget-view+json": {
       "model_id": "",
       "version_major": 2,
       "version_minor": 0
      },
      "text/plain": [
       "Validating: 0it [00:00, ?it/s]"
      ]
     },
     "metadata": {},
     "output_type": "display_data"
    },
    {
     "data": {
      "application/vnd.jupyter.widget-view+json": {
       "model_id": "",
       "version_major": 2,
       "version_minor": 0
      },
      "text/plain": [
       "Validating: 0it [00:00, ?it/s]"
      ]
     },
     "metadata": {},
     "output_type": "display_data"
    },
    {
     "data": {
      "application/vnd.jupyter.widget-view+json": {
       "model_id": "",
       "version_major": 2,
       "version_minor": 0
      },
      "text/plain": [
       "Validating: 0it [00:00, ?it/s]"
      ]
     },
     "metadata": {},
     "output_type": "display_data"
    },
    {
     "data": {
      "application/vnd.jupyter.widget-view+json": {
       "model_id": "",
       "version_major": 2,
       "version_minor": 0
      },
      "text/plain": [
       "Validating: 0it [00:00, ?it/s]"
      ]
     },
     "metadata": {},
     "output_type": "display_data"
    },
    {
     "data": {
      "application/vnd.jupyter.widget-view+json": {
       "model_id": "",
       "version_major": 2,
       "version_minor": 0
      },
      "text/plain": [
       "Validating: 0it [00:00, ?it/s]"
      ]
     },
     "metadata": {},
     "output_type": "display_data"
    },
    {
     "data": {
      "application/vnd.jupyter.widget-view+json": {
       "model_id": "",
       "version_major": 2,
       "version_minor": 0
      },
      "text/plain": [
       "Validating: 0it [00:00, ?it/s]"
      ]
     },
     "metadata": {},
     "output_type": "display_data"
    }
   ],
   "source": [
    "best_accuracy = 0\n",
    "\n",
    "def objective(trial):\n",
    "    torch.cuda.empty_cache()\n",
    "    random.seed(seed)\n",
    "\n",
    "    params = {\n",
    "        #'epochs': trial.suggest_int('epochs', 10, 30),\n",
    "        'learning_rate': trial.suggest_loguniform('learning_rate', 1e-5, 5e-4),\n",
    "        'dx_dropout': trial.suggest_float('dx_dropout', 0.3, 0.7),\n",
    "        'char_dropout': trial.suggest_float('char_dropout', 0.3, 0.7),\n",
    "        'batch_size': trial.suggest_categorical('batch_size', [16, 32])\n",
    "    }\n",
    "    \n",
    "    checkpoint_callback = ModelCheckpoint(dirpath=\"checkpoints\", save_top_k=1, monitor=\"val/loss\")\n",
    "    model = HAMFineTune(img_dir=img_dir, annotations_dir=annotations_dir, metadata_file=metadata_file, weighted_sampling=False,\n",
    "                        batch_size=params['batch_size'], dx_dropout=params['dx_dropout'], char_dropout=params['char_dropout'],\n",
    "                        learning_rate=params['learning_rate'])\n",
    "\n",
    "    trainer = pl.Trainer(max_epochs=25, devices=[1], accelerator=\"gpu\", deterministic=True, callbacks=[checkpoint_callback])\n",
    "    trainer.fit(model)\n",
    "    \n",
    "    # Load the best checkpoint after training\n",
    "    best_checkpoint_path = checkpoint_callback.best_model_path\n",
    "    checkpoint = torch.load(best_checkpoint_path)\n",
    "    model.load_state_dict(checkpoint['state_dict'])\n",
    "    \n",
    "    result_val = get_predictions(trainer, model, split='val', char_threshold=0, dx_threshold=0)\n",
    "    char_threshold = get_thresholds(result_val)\n",
    "    dx_threshold = find_optimal_cutoff(result_val['benign_malignant'], result_val['dx_pred'])\n",
    "    result_test = get_predictions(trainer, model, split='test', char_threshold=char_threshold, dx_threshold=dx_threshold)\n",
    "    result_external = get_predictions(trainer, model, split='external', char_threshold=char_threshold, dx_threshold=dx_threshold) \n",
    "    \n",
    "    val_accuracy = metrics.balanced_accuracy_score(result_val['benign_malignant'], result_val['prediction'])\n",
    "    test_accuracy = metrics.balanced_accuracy_score(result_test['benign_malignant'], result_test['prediction'])\n",
    "    external_accuracy = metrics.balanced_accuracy_score(result_external['benign_malignant'], result_external['prediction'])\n",
    "    \n",
    "    trial.set_user_attr(\"val_accuracy\", val_accuracy)\n",
    "    trial.set_user_attr(\"test_accuracy\", test_accuracy)\n",
    "    trial.set_user_attr(\"external_accuracy\", external_accuracy)\n",
    "    \n",
    "    global best_accuracy\n",
    "    if val_accuracy >= best_accuracy:\n",
    "        best_accuracy = val_accuracy\n",
    "        torch.save(model.state_dict(), os.path.join(\"models\", \"baseline_model.pth\"))\n",
    "        result_val.to_csv(os.path.join(\"results\", \"baseline_model\", \"result_val.csv\"), index=False)\n",
    "        result_test.to_csv(os.path.join(\"results\", \"baseline_model\", \"result_test.csv\"), index=False)\n",
    "        result_external.to_csv(os.path.join(\"results\", \"baseline_model\", \"result_external.csv\"), index=False)\n",
    "    \n",
    "    return val_accuracy\n",
    "\n",
    "study = optuna.create_study(direction=\"maximize\", sampler=optuna.samplers.TPESampler(seed=seed), storage=\"sqlite:///optuna/baseline_model.db\")\n",
    "study.optimize(objective, n_trials=15, gc_after_trial=True)"
   ]
  },
  {
   "cell_type": "code",
   "execution_count": null,
   "id": "05c16ff4-5bad-43a8-83d2-8a1074912eb8",
   "metadata": {},
   "outputs": [],
   "source": [
    "print(study.best_params)\n",
    "print(study.best_value)\n",
    "trials_df = study.trials_dataframe().sort_values('value', ascending=False)\n",
    "display(trials_df)\n",
    "trials_df.to_csv(os.path.join('optuna', 'baseline_model.csv'), index=False)"
   ]
  },
  {
   "cell_type": "code",
   "execution_count": null,
   "id": "9e4dcce9-744c-4a61-ae13-55a72e1c03aa",
   "metadata": {},
   "outputs": [],
   "source": []
  },
  {
   "cell_type": "code",
   "execution_count": null,
   "id": "9ca0c5c3-05d8-423c-81e2-29b5881bb14c",
   "metadata": {},
   "outputs": [],
   "source": []
  },
  {
   "cell_type": "code",
   "execution_count": null,
   "id": "d92dbf40-15e2-47b3-a6ac-5b36282935fe",
   "metadata": {},
   "outputs": [],
   "source": []
  },
  {
   "cell_type": "code",
   "execution_count": null,
   "id": "a1b6679e-24b1-4086-9f8a-30e38dd3e0f8",
   "metadata": {},
   "outputs": [],
   "source": []
  },
  {
   "cell_type": "code",
   "execution_count": null,
   "id": "5e14b588-98e7-4fef-9a63-92679d44eb3e",
   "metadata": {},
   "outputs": [],
   "source": []
  },
  {
   "cell_type": "code",
   "execution_count": null,
   "id": "c57786e4-ec35-450d-99d8-62eef0bb152b",
   "metadata": {},
   "outputs": [],
   "source": []
  }
 ],
 "metadata": {
  "kernelspec": {
   "display_name": "Python 3 (ipykernel)",
   "language": "python",
   "name": "python3"
  },
  "language_info": {
   "codemirror_mode": {
    "name": "ipython",
    "version": 3
   },
   "file_extension": ".py",
   "mimetype": "text/x-python",
   "name": "python",
   "nbconvert_exporter": "python",
   "pygments_lexer": "ipython3",
   "version": "3.9.9"
  }
 },
 "nbformat": 4,
 "nbformat_minor": 5
}
