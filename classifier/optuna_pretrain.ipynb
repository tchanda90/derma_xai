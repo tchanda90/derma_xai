{
 "cells": [
  {
   "cell_type": "code",
   "execution_count": 1,
   "id": "167aa233-6f59-4b88-a4a6-f802ef35eb5e",
   "metadata": {},
   "outputs": [
    {
     "name": "stderr",
     "output_type": "stream",
     "text": [
      "/home/caduser/anaconda3/envs/overlap/lib/python3.9/site-packages/neptune/internal/backends/hosted_client.py:50: NeptuneDeprecationWarning: The 'neptune-client' package has been deprecated and will be removed in the future. Install the 'neptune' package instead. For more, see https://docs.neptune.ai/setup/upgrading/\n",
      "  from neptune.version import version as neptune_client_version\n",
      "/home/caduser/anaconda3/envs/overlap/lib/python3.9/site-packages/pytorch_lightning/loggers/neptune.py:41: NeptuneDeprecationWarning: You're importing the Neptune client library via the deprecated `neptune.new` module, which will be removed in a future release. Import directly from `neptune` instead.\n",
      "  from neptune import new as neptune\n"
     ]
    }
   ],
   "source": [
    "import random\n",
    "import os\n",
    "import matplotlib\n",
    "import matplotlib.pyplot as plt\n",
    "import seaborn as sns\n",
    "import pandas as pd\n",
    "import torch\n",
    "import cv2\n",
    "import warnings\n",
    "import timeit\n",
    "import pytorch_lightning as pl\n",
    "from torch import optim\n",
    "from scipy.special import expit\n",
    "from skimage import io, transform, measure\n",
    "from sklearn import metrics\n",
    "import optuna\n",
    "from config import *\n",
    "from util import *\n",
    "from models import *\n",
    "sns.set()\n",
    "warnings.filterwarnings(\"ignore\")\n",
    "pd.set_option('display.max_columns', 500)\n",
    "pd.set_option('display.max_rows', 500)\n",
    "rc = {\"figure.figsize\" : (9, 7),\n",
    "      \"axes.spines.left\" : False,\n",
    "      \"axes.spines.right\" : False,\n",
    "      \"axes.spines.bottom\" : False,\n",
    "      \"axes.spines.top\" : False,\n",
    "      \"xtick.bottom\" : True,\n",
    "      \"xtick.labelbottom\" : False,\n",
    "      \"ytick.labelleft\" : False,\n",
    "      \"ytick.left\" : True,\n",
    "      \"axes.grid\" : False}\n",
    "plt.rcParams.update(rc)"
   ]
  },
  {
   "cell_type": "code",
   "execution_count": null,
   "id": "204aeef3-290f-4e9e-99fb-342e1765ab72",
   "metadata": {},
   "outputs": [],
   "source": [
    "best_accuracy = 0\n",
    "\n",
    "def objective(trial):\n",
    "    torch.cuda.empty_cache()\n",
    "    random.seed(seed)\n",
    "    \n",
    "    params = {\n",
    "        #'epochs': trial.suggest_int('epochs', 10, 30),\n",
    "        'learning_rate': trial.suggest_loguniform('learning_rate', 1e-5, 1e-1),\n",
    "        'dx_dropout': trial.suggest_float('dx_dropout', 0.3, 0.7),\n",
    "        'char_dropout': trial.suggest_float('char_dropout', 0.3, 0.7),\n",
    "        'batch_size': trial.suggest_categorical('batch_size', [16, 32])\n",
    "    }\n",
    "    \n",
    "    model = SCPPretrain(img_dir=img_dir, annotations_dir=annotations_dir, metadata_file=metadata_file, weighted_sampling=False,\n",
    "                        batch_size=params['batch_size'], dx_dropout=params['dx_dropout'], char_dropout=params['char_dropout'],\n",
    "                        learning_rate=params['learning_rate'])\n",
    "\n",
    "    trainer = pl.Trainer(max_epochs=15, devices=1, accelerator=\"gpu\", deterministic=True)\n",
    "    trainer.fit(model)\n",
    "    \n",
    "    # Val predictions\n",
    "    result_val = get_char_predictions(trainer, model, split='val', threshold=0)\n",
    "    result_val['prediction'] = result_val['dx_pred'].apply(lambda x: 1 if x >= 0 else 0)\n",
    "    thresholds = get_thresholds(result_val)\n",
    "    dx_threshold = find_optimal_cutoff(result_val['benign_malignant'], result_val['dx_pred'])\n",
    "    \n",
    "    # Test predictions\n",
    "    result_test = get_char_predictions(trainer, model, split='test', threshold=thresholds)\n",
    "    result_test['prediction'] = get_diagnosis_predictions(result_test, num_melanoma_chars=1)\n",
    "    result_test['prediction'] = result_test['dx_pred'].apply(lambda x: 1 if x >= dx_threshold else 0)\n",
    "    \n",
    "    target_model = HAMFineTune(img_dir=img_dir, annotations_dir=annotations_dir, metadata_file=metadata_file, weighted_sampling=False,\n",
    "                                  batch_size=batch_size, dropout=dropout, learning_rate=learning_rate, char_pos_weight=char_pos_weight, dx_pos_weight=dx_pos_weight)\n",
    "\n",
    "    target_model.load_state_dict(model.state_dict())\n",
    "    trainer = pl.Trainer(max_epochs=20, devices=1, accelerator=\"gpu\", deterministic=True)\n",
    "    trainer.fit(target_model)\n",
    "\n",
    "    val_accuracy = metrics.balanced_accuracy_score(result_val['benign_malignant'], result_val['prediction'])\n",
    "    test_accuracy = metrics.balanced_accuracy_score(result_test['benign_malignant'], result_test['prediction'])\n",
    "    \n",
    "    trial.set_user_attr(\"val_accuracy\", val_accuracy)\n",
    "    trial.set_user_attr(\"test_accuracy\", test_accuracy)\n",
    "    \n",
    "    return val_accuracy\n",
    "\n",
    "study = optuna.create_study(direction=\"maximize\", sampler=optuna.samplers.TPESampler(seed=seed), storage=\"sqlite:///optuna/pretrain.db\")\n",
    "study.optimize(objective, n_trials=15, gc_after_trial=True)"
   ]
  }
 ],
 "metadata": {
  "kernelspec": {
   "display_name": "Python 3 (ipykernel)",
   "language": "python",
   "name": "python3"
  },
  "language_info": {
   "codemirror_mode": {
    "name": "ipython",
    "version": 3
   },
   "file_extension": ".py",
   "mimetype": "text/x-python",
   "name": "python",
   "nbconvert_exporter": "python",
   "pygments_lexer": "ipython3",
   "version": "3.9.9"
  }
 },
 "nbformat": 4,
 "nbformat_minor": 5
}
