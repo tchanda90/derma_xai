{
 "cells": [
  {
   "cell_type": "code",
   "execution_count": 1,
   "id": "09d6d3c9-fe50-4c0b-a65f-6b7959d8ad2e",
   "metadata": {},
   "outputs": [],
   "source": [
    "import os\n",
    "import torch\n",
    "import numpy as np\n",
    "import pytorch_lightning as pl\n",
    "import albumentations\n",
    "from albumentations.pytorch import ToTensorV2\n",
    "from torchvision import models\n",
    "from torch import nn\n",
    "from skimage import io\n",
    "from captum.attr import LayerGradCam\n",
    "\n",
    "\n",
    "class Classifier(pl.LightningModule):\n",
    "    def __init__(self):\n",
    "\n",
    "        super().__init__()\n",
    "        \n",
    "        self.image_size = 224\n",
    "\n",
    "        base_model = models.resnet50(pretrained=True)\n",
    "        base_model.fc = nn.Sequential(\n",
    "            nn.Dropout(p=0.6),\n",
    "            nn.Linear(in_features=base_model.fc.in_features, out_features=1),\n",
    "        )\n",
    "        self.loss = nn.BCEWithLogitsLoss(pos_weight=torch.tensor([1]))\n",
    "        self.base_model = base_model\n",
    "\n",
    "        self.layer_gc = LayerGradCam(self.base_model, self.base_model.layer4[-1])\n",
    "        \n",
    "        self.dx_threshold = 0.5045563742228787\n",
    "\n",
    "        self.sigmoid = nn.Sigmoid()\n",
    "        \n",
    "        \n",
    "        self.test_transform = albumentations.Compose([\n",
    "            albumentations.Resize(self.image_size, self.image_size),\n",
    "            albumentations.Normalize(),\n",
    "            ToTensorV2()\n",
    "        ])\n",
    "        \n",
    "    @staticmethod\n",
    "    def inverse_normalize(tensor, mean=(0.485, 0.456, 0.406), std=(0.229, 0.224, 0.225)):\n",
    "        for t, m, s in zip(tensor, mean, std):\n",
    "            t.mul_(s).add_(m)\n",
    "        return tensor\n",
    "    \n",
    "    def forward(self, x):\n",
    "        output = self.sigmoid(self.base_model(x))\n",
    "        return output"
   ]
  },
  {
   "cell_type": "code",
   "execution_count": 2,
   "id": "bc245b99-e5d9-44bc-80ab-ed266471f2ef",
   "metadata": {},
   "outputs": [
    {
     "data": {
      "text/plain": [
       "<All keys matched successfully>"
      ]
     },
     "execution_count": 2,
     "metadata": {},
     "output_type": "execute_result"
    }
   ],
   "source": [
    "model = Classifier()\n",
    "\n",
    "checkpoint = torch.load(\"models/baseline_model.pth\")\n",
    "model.load_state_dict(checkpoint)"
   ]
  },
  {
   "cell_type": "code",
   "execution_count": null,
   "id": "53f46d3d-bdc9-4b72-8d56-f086bb1a620c",
   "metadata": {},
   "outputs": [],
   "source": []
  },
  {
   "cell_type": "code",
   "execution_count": null,
   "id": "cb9e226f-985c-4e7a-9c35-0c188e188093",
   "metadata": {},
   "outputs": [],
   "source": []
  },
  {
   "cell_type": "code",
   "execution_count": 3,
   "id": "21b389fb-3f0e-4d24-953d-f7fa85467d7b",
   "metadata": {},
   "outputs": [
    {
     "data": {
      "text/plain": [
       "tensor([[0.2299]], grad_fn=<SigmoidBackward0>)"
      ]
     },
     "execution_count": 3,
     "metadata": {},
     "output_type": "execute_result"
    }
   ],
   "source": [
    "\n",
    "model.eval()\n",
    "\n",
    "raw_img = io.imread(os.path.join(\"/home/caduser/Tirtha/data/combined\", \"ISIC_0024306.jpg\"))\n",
    "image = model.test_transform(image=raw_img)['image'].unsqueeze(0)\n",
    "\n",
    "\n",
    "predictions = model(image)\n",
    "predictions"
   ]
  },
  {
   "cell_type": "code",
   "execution_count": null,
   "id": "156c27f5-bb7b-4e17-b46e-3b554005d2a6",
   "metadata": {},
   "outputs": [],
   "source": []
  }
 ],
 "metadata": {
  "kernelspec": {
   "display_name": "Python 3 (ipykernel)",
   "language": "python",
   "name": "python3"
  },
  "language_info": {
   "codemirror_mode": {
    "name": "ipython",
    "version": 3
   },
   "file_extension": ".py",
   "mimetype": "text/x-python",
   "name": "python",
   "nbconvert_exporter": "python",
   "pygments_lexer": "ipython3",
   "version": "3.9.9"
  }
 },
 "nbformat": 4,
 "nbformat_minor": 5
}
